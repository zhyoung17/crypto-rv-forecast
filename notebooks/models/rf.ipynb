{
 "cells": [
  {
   "cell_type": "markdown",
   "metadata": {},
   "source": [
    "# Random Forest\n",
    "The RF performed well in our group project when it came to predicting the RV of ETH. Now we wil use RF to predict other coins"
   ]
  },
  {
   "cell_type": "markdown",
   "metadata": {},
   "source": [
    "## Import the libraries and data\n",
    "To obtain the data, please go to notebooks/data_preprocessing, and then run data_import.ipynb and then run data_preprocessing.ipynb. This will give you data/processed_data.csv"
   ]
  },
  {
   "cell_type": "code",
   "execution_count": 9,
   "metadata": {},
   "outputs": [
    {
     "name": "stdout",
     "output_type": "stream",
     "text": [
      "Index(['Date', 'Open', 'High', 'Low', 'Close', 'Volume', 'Ticker',\n",
      "       'ln_hourly_return', 'ln_3_hourly_return', 'ln_hourly_rv',\n",
      "       'ln_3_hourly_rv', 'ln_daily_rv', 'ln_weekly_rv', 'ln_monthly_rv',\n",
      "       'ln_daily_rv_lag1', 'ln_daily_rv_lag2', 'ln_weekly_rv_lag1',\n",
      "       'ln_weekly_rv_lag2', 'ln_monthly_rv_lag1', 'ln_monthly_rv_lag2',\n",
      "       'ln_hourly_rv_lag1', 'ln_3_hourly_rv_lag1', 'ln_hourly_rv_lag2',\n",
      "       'ln_3_hourly_rv_lag2', 'ln_hourly_return_lag1',\n",
      "       'ln_3_hourly_return_lag1', 'ln_hourly_return_lag2',\n",
      "       'ln_3_hourly_return_lag2', 'Risk'],\n",
      "      dtype='object')\n"
     ]
    }
   ],
   "source": [
    "# Import the necessary libraries\n",
    "import pandas as pd\n",
    "from sklearn.model_selection import train_test_split\n",
    "from sklearn.linear_model import LinearRegression\n",
    "from sklearn.metrics import mean_squared_error\n",
    "import matplotlib.pyplot as plt\n",
    "from sklearn.metrics import r2_score\n",
    "from sklearn.ensemble import RandomForestRegressor\n",
    "from sklearn.model_selection import TimeSeriesSplit\n",
    "import numpy as np\n",
    "\n",
    "\n",
    "data = pd.read_csv('../../data/processed_data.csv')\n",
    "data['Date'] = pd.to_datetime(data['Date'])\n",
    "\n",
    "# Remove NaN values\n",
    "data = data.dropna()\n",
    "\n",
    "# Print columns\n",
    "print(data.columns)"
   ]
  },
  {
   "cell_type": "markdown",
   "metadata": {},
   "source": [
    "## Train test split\n",
    "Now we will use a different train-test split from the group project\n",
    "Group project: 80/20 split\n",
    "Individual: Use 1 year of training data, then use rolling window "
   ]
  },
  {
   "cell_type": "code",
   "execution_count": 10,
   "metadata": {},
   "outputs": [
    {
     "name": "stdout",
     "output_type": "stream",
     "text": [
      "2023-05-03 00:00:00+00:00 2024-05-03 00:00:00+00:00\n",
      "2024-05-03 01:00:00+00:00 2025-03-10 23:00:00+00:00\n"
     ]
    }
   ],
   "source": [
    "# Train-test split\n",
    "# Train data: 0.8 of the data\n",
    "# Test data: 0.2 of the data\n",
    "# Sort the data by date\n",
    "data = data.sort_values('Date')\n",
    "\n",
    "# Determine when the first year ends, and use it as train data\n",
    "# The rest of the data is used as test data\n",
    "min_date = data['Date'].min()\n",
    "max_date = data['Date'].max()\n",
    "\n",
    "# Calculate the total time span of the data\n",
    "total_time_span = max_date - min_date\n",
    "\n",
    "# Define the first year of data\n",
    "first_year_end = min_date + pd.DateOffset(years=1)\n",
    "\n",
    "# Filter data for the first year\n",
    "first_year_data = data[data['Date'] <= first_year_end]\n",
    "\n",
    "# Calculate the percentage of data in the first year\n",
    "percentage_first_year = (len(first_year_data) / len(data))\n",
    "\n",
    "train_split = percentage_first_year\n",
    "train_data = data[:int(train_split * len(data))]\n",
    "test_data = data[int(train_split * len(data)):]\n",
    "\n",
    "# Print train and test data date\n",
    "print(train_data['Date'].min(), train_data['Date'].max())\n",
    "print(test_data['Date'].min(), test_data['Date'].max())"
   ]
  },
  {
   "cell_type": "markdown",
   "metadata": {},
   "source": [
    "### Further split the data based on the risk level\n",
    "There are low, medium, and high risk models."
   ]
  },
  {
   "cell_type": "code",
   "execution_count": 11,
   "metadata": {},
   "outputs": [],
   "source": [
    "# Split train and test data by risk groups\n",
    "train_data_split = {\n",
    "    'low': train_data[train_data['Risk'] == 'Low Risk'],\n",
    "    'medium': train_data[train_data['Risk'] == 'Medium Risk'],\n",
    "    'high': train_data[train_data['Risk'] == 'High Risk']\n",
    "}\n",
    "\n",
    "test_data_split = {\n",
    "    'low': test_data[test_data['Risk'] == 'Low Risk'],\n",
    "    'medium': test_data[test_data['Risk'] == 'Medium Risk'],\n",
    "    'high': test_data[test_data['Risk'] == 'High Risk']\n",
    "}"
   ]
  },
  {
   "cell_type": "markdown",
   "metadata": {},
   "source": [
    "# Train the model based on their classifications"
   ]
  },
  {
   "cell_type": "markdown",
   "metadata": {},
   "source": [
    "### Training data"
   ]
  },
  {
   "cell_type": "markdown",
   "metadata": {},
   "source": [
    "This wil give us 3 models to work with: model_low, model_medium, and model_high. We will use these subsequent models on the test data to evaluate the models"
   ]
  },
  {
   "cell_type": "code",
   "execution_count": 12,
   "metadata": {},
   "outputs": [
    {
     "name": "stderr",
     "output_type": "stream",
     "text": [
      "C:\\Users\\young\\AppData\\Local\\Temp\\ipykernel_25028\\2875894655.py:67: FutureWarning: The behavior of DataFrame concatenation with empty or all-NA entries is deprecated. In a future version, this will no longer exclude empty or all-NA columns when determining the result dtypes. To retain the old behavior, exclude the relevant entries before the concat operation.\n",
      "  model_summary = pd.concat([\n"
     ]
    }
   ],
   "source": [
    "def train_models_by_frequency_and_risk(train_data, frequencies):\n",
    "    models = {}\n",
    "    model_summary = pd.DataFrame(columns=['Frequency', 'Risk Group', 'MSE (Train)', 'Top Features (Importance)'])  # Updated column name\n",
    "    \n",
    "    feature_map = {\n",
    "        'hourly': [\n",
    "            'ln_hourly_rv_lag1', 'ln_hourly_rv_lag2',\n",
    "            'ln_3_hourly_rv_lag1', 'ln_3_hourly_rv_lag2',\n",
    "            'ln_daily_rv_lag1', 'ln_daily_rv_lag2',\n",
    "            'ln_hourly_return_lag1', 'ln_hourly_return_lag2',\n",
    "            'ln_3_hourly_return_lag1', 'ln_3_hourly_return_lag2'\n",
    "        ],\n",
    "        '3hourly': [\n",
    "            'ln_3_hourly_rv_lag1', 'ln_3_hourly_rv_lag2',\n",
    "            'ln_daily_rv_lag1', 'ln_daily_rv_lag2',\n",
    "            'ln_weekly_rv_lag1', 'ln_weekly_rv_lag2',\n",
    "            'ln_3_hourly_return_lag1', 'ln_3_hourly_return_lag2',\n",
    "            'ln_daily_return_lag1', 'ln_daily_return_lag2'  \n",
    "        ],\n",
    "        'daily': [\n",
    "            'ln_daily_rv_lag1', 'ln_daily_rv_lag2',\n",
    "            'ln_weekly_rv_lag1', 'ln_weekly_rv_lag2',\n",
    "            'ln_monthly_rv_lag1', 'ln_monthly_rv_lag2',\n",
    "            'ln_daily_return_lag1', 'ln_daily_return_lag2',\n",
    "            'ln_weekly_return_lag1', 'ln_weekly_return_lag2'\n",
    "        ]\n",
    "    }\n",
    "\n",
    "    for freq in frequencies:\n",
    "        models[freq] = {}\n",
    "        for risk_group in ['low', 'medium', 'high']:\n",
    "            group_data = train_data[risk_group].copy()\n",
    "            \n",
    "            target = {\n",
    "                'hourly': 'ln_hourly_rv',\n",
    "                '3hourly': 'ln_3_hourly_rv',\n",
    "                'daily': 'ln_daily_rv'\n",
    "            }[freq]\n",
    "            \n",
    "            features = feature_map[freq]\n",
    "            available_features = [f for f in features if f in group_data.columns]\n",
    "            \n",
    "            if not available_features:\n",
    "                raise ValueError(f\"No valid features for {freq}-{risk_group}\")\n",
    "            \n",
    "            X_train = group_data[available_features].dropna()\n",
    "            y_train = group_data.loc[X_train.index, target]\n",
    "            \n",
    "            model = RandomForestRegressor(\n",
    "                n_estimators=100,\n",
    "                random_state=42,\n",
    "                max_depth=5\n",
    "            )\n",
    "            model.fit(X_train, y_train)\n",
    "            models[freq][risk_group] = model\n",
    "            \n",
    "            y_pred = model.predict(X_train)\n",
    "            mse_train = mean_squared_error(y_train, y_pred)\n",
    "            \n",
    "            # Get feature importances with scores\n",
    "            feature_importance = pd.Series(model.feature_importances_, index=available_features)\n",
    "            sorted_importance = feature_importance.sort_values(ascending=False).head(3)\n",
    "            top_features_info = [f\"{feature}: {importance:.4f}\" for feature, importance in sorted_importance.items()]\n",
    "            top_features_str = \", \".join(top_features_info)  # Format: \"feature1: 0.25, feature2: 0.18, ...\"\n",
    "            \n",
    "            # Append to summary\n",
    "            model_summary = pd.concat([\n",
    "                model_summary,\n",
    "                pd.DataFrame({\n",
    "                    'Frequency': [freq],\n",
    "                    'Risk Group': [risk_group],\n",
    "                    'MSE (Train)': [mse_train],\n",
    "                    'Top Features (Importance)': [top_features_str]  # New column with scores\n",
    "                })\n",
    "            ], ignore_index=True)\n",
    "    \n",
    "    return models, model_summary\n",
    "\n",
    "models, model_summary = train_models_by_frequency_and_risk(train_data_split, ['hourly', '3hourly', 'daily'])"
   ]
  },
  {
   "cell_type": "markdown",
   "metadata": {},
   "source": [
    "### Model summary of training data"
   ]
  },
  {
   "cell_type": "code",
   "execution_count": 13,
   "metadata": {},
   "outputs": [
    {
     "data": {
      "application/vnd.microsoft.datawrangler.viewer.v0+json": {
       "columns": [
        {
         "name": "index",
         "rawType": "int64",
         "type": "integer"
        },
        {
         "name": "Frequency",
         "rawType": "object",
         "type": "string"
        },
        {
         "name": "Risk Group",
         "rawType": "object",
         "type": "string"
        },
        {
         "name": "MSE (Train)",
         "rawType": "float64",
         "type": "float"
        },
        {
         "name": "Top Features (Importance)",
         "rawType": "object",
         "type": "string"
        }
       ],
       "conversionMethod": "pd.DataFrame",
       "ref": "0c568406-a763-455b-81fd-38978eac5154",
       "rows": [
        [
         "0",
         "hourly",
         "low",
         "5.2779560661260625",
         "ln_3_hourly_rv_lag1: 0.4415, ln_hourly_rv_lag1: 0.1623, ln_3_hourly_rv_lag2: 0.1370"
        ],
        [
         "1",
         "hourly",
         "medium",
         "5.7646122136724065",
         "ln_3_hourly_rv_lag1: 0.3081, ln_daily_rv_lag1: 0.2813, ln_hourly_rv_lag1: 0.2096"
        ],
        [
         "2",
         "hourly",
         "high",
         "5.660812112305753",
         "ln_daily_rv_lag1: 0.6906, ln_3_hourly_rv_lag1: 0.1089, ln_hourly_rv_lag1: 0.0798"
        ],
        [
         "3",
         "3hourly",
         "low",
         "1.6992801195954035",
         "ln_3_hourly_rv_lag1: 0.5821, ln_3_hourly_rv_lag2: 0.1483, ln_daily_rv_lag1: 0.1328"
        ],
        [
         "4",
         "3hourly",
         "medium",
         "1.7658358377024246",
         "ln_3_hourly_rv_lag1: 0.5011, ln_daily_rv_lag1: 0.1929, ln_weekly_rv_lag1: 0.1429"
        ],
        [
         "5",
         "3hourly",
         "high",
         "1.6103955880659917",
         "ln_daily_rv_lag1: 0.6437, ln_3_hourly_rv_lag1: 0.1593, ln_weekly_rv_lag1: 0.1112"
        ],
        [
         "6",
         "daily",
         "low",
         "0.5712155844156865",
         "ln_daily_rv_lag1: 0.3858, ln_weekly_rv_lag1: 0.2286, ln_daily_rv_lag2: 0.1282"
        ],
        [
         "7",
         "daily",
         "medium",
         "0.6603446963952082",
         "ln_daily_rv_lag1: 0.5175, ln_weekly_rv_lag2: 0.2081, ln_weekly_rv_lag1: 0.1840"
        ],
        [
         "8",
         "daily",
         "high",
         "0.5062345383824826",
         "ln_daily_rv_lag1: 0.7162, ln_weekly_rv_lag1: 0.1120, ln_weekly_rv_lag2: 0.0890"
        ]
       ],
       "shape": {
        "columns": 4,
        "rows": 9
       }
      },
      "text/html": [
       "<div>\n",
       "<style scoped>\n",
       "    .dataframe tbody tr th:only-of-type {\n",
       "        vertical-align: middle;\n",
       "    }\n",
       "\n",
       "    .dataframe tbody tr th {\n",
       "        vertical-align: top;\n",
       "    }\n",
       "\n",
       "    .dataframe thead th {\n",
       "        text-align: right;\n",
       "    }\n",
       "</style>\n",
       "<table border=\"1\" class=\"dataframe\">\n",
       "  <thead>\n",
       "    <tr style=\"text-align: right;\">\n",
       "      <th></th>\n",
       "      <th>Frequency</th>\n",
       "      <th>Risk Group</th>\n",
       "      <th>MSE (Train)</th>\n",
       "      <th>Top Features (Importance)</th>\n",
       "    </tr>\n",
       "  </thead>\n",
       "  <tbody>\n",
       "    <tr>\n",
       "      <th>0</th>\n",
       "      <td>hourly</td>\n",
       "      <td>low</td>\n",
       "      <td>5.277956</td>\n",
       "      <td>ln_3_hourly_rv_lag1: 0.4415, ln_hourly_rv_lag1...</td>\n",
       "    </tr>\n",
       "    <tr>\n",
       "      <th>1</th>\n",
       "      <td>hourly</td>\n",
       "      <td>medium</td>\n",
       "      <td>5.764612</td>\n",
       "      <td>ln_3_hourly_rv_lag1: 0.3081, ln_daily_rv_lag1:...</td>\n",
       "    </tr>\n",
       "    <tr>\n",
       "      <th>2</th>\n",
       "      <td>hourly</td>\n",
       "      <td>high</td>\n",
       "      <td>5.660812</td>\n",
       "      <td>ln_daily_rv_lag1: 0.6906, ln_3_hourly_rv_lag1:...</td>\n",
       "    </tr>\n",
       "    <tr>\n",
       "      <th>3</th>\n",
       "      <td>3hourly</td>\n",
       "      <td>low</td>\n",
       "      <td>1.699280</td>\n",
       "      <td>ln_3_hourly_rv_lag1: 0.5821, ln_3_hourly_rv_la...</td>\n",
       "    </tr>\n",
       "    <tr>\n",
       "      <th>4</th>\n",
       "      <td>3hourly</td>\n",
       "      <td>medium</td>\n",
       "      <td>1.765836</td>\n",
       "      <td>ln_3_hourly_rv_lag1: 0.5011, ln_daily_rv_lag1:...</td>\n",
       "    </tr>\n",
       "    <tr>\n",
       "      <th>5</th>\n",
       "      <td>3hourly</td>\n",
       "      <td>high</td>\n",
       "      <td>1.610396</td>\n",
       "      <td>ln_daily_rv_lag1: 0.6437, ln_3_hourly_rv_lag1:...</td>\n",
       "    </tr>\n",
       "    <tr>\n",
       "      <th>6</th>\n",
       "      <td>daily</td>\n",
       "      <td>low</td>\n",
       "      <td>0.571216</td>\n",
       "      <td>ln_daily_rv_lag1: 0.3858, ln_weekly_rv_lag1: 0...</td>\n",
       "    </tr>\n",
       "    <tr>\n",
       "      <th>7</th>\n",
       "      <td>daily</td>\n",
       "      <td>medium</td>\n",
       "      <td>0.660345</td>\n",
       "      <td>ln_daily_rv_lag1: 0.5175, ln_weekly_rv_lag2: 0...</td>\n",
       "    </tr>\n",
       "    <tr>\n",
       "      <th>8</th>\n",
       "      <td>daily</td>\n",
       "      <td>high</td>\n",
       "      <td>0.506235</td>\n",
       "      <td>ln_daily_rv_lag1: 0.7162, ln_weekly_rv_lag1: 0...</td>\n",
       "    </tr>\n",
       "  </tbody>\n",
       "</table>\n",
       "</div>"
      ],
      "text/plain": [
       "  Frequency Risk Group  MSE (Train)  \\\n",
       "0    hourly        low     5.277956   \n",
       "1    hourly     medium     5.764612   \n",
       "2    hourly       high     5.660812   \n",
       "3   3hourly        low     1.699280   \n",
       "4   3hourly     medium     1.765836   \n",
       "5   3hourly       high     1.610396   \n",
       "6     daily        low     0.571216   \n",
       "7     daily     medium     0.660345   \n",
       "8     daily       high     0.506235   \n",
       "\n",
       "                           Top Features (Importance)  \n",
       "0  ln_3_hourly_rv_lag1: 0.4415, ln_hourly_rv_lag1...  \n",
       "1  ln_3_hourly_rv_lag1: 0.3081, ln_daily_rv_lag1:...  \n",
       "2  ln_daily_rv_lag1: 0.6906, ln_3_hourly_rv_lag1:...  \n",
       "3  ln_3_hourly_rv_lag1: 0.5821, ln_3_hourly_rv_la...  \n",
       "4  ln_3_hourly_rv_lag1: 0.5011, ln_daily_rv_lag1:...  \n",
       "5  ln_daily_rv_lag1: 0.6437, ln_3_hourly_rv_lag1:...  \n",
       "6  ln_daily_rv_lag1: 0.3858, ln_weekly_rv_lag1: 0...  \n",
       "7  ln_daily_rv_lag1: 0.5175, ln_weekly_rv_lag2: 0...  \n",
       "8  ln_daily_rv_lag1: 0.7162, ln_weekly_rv_lag1: 0...  "
      ]
     },
     "execution_count": 13,
     "metadata": {},
     "output_type": "execute_result"
    }
   ],
   "source": [
    "\n",
    "model_summary"
   ]
  },
  {
   "cell_type": "markdown",
   "metadata": {},
   "source": [
    "### Implement rolling window\n",
    "Now implement rolling window for the test data"
   ]
  },
  {
   "cell_type": "code",
   "execution_count": null,
   "metadata": {},
   "outputs": [],
   "source": [
    "def rolling_window_predictions(X_test, y_test, model, window_size=24, step_ahead=1):\n",
    "    predictions = []\n",
    "    actuals = []\n",
    "    dates = []\n",
    "    \n",
    "    max_index = len(X_test) - step_ahead  # Ensure enough data for step_ahead\n",
    "    \n",
    "    for i in range(window_size, max_index + 1):\n",
    "        X_window = X_test.drop(columns=['Date']).iloc[i - window_size:i]\n",
    "        y_pred = model.predict(X_window.tail(1))[0]\n",
    "        \n",
    "        # Capture the target value `step_ahead` steps ahead\n",
    "        actual_index = i + step_ahead - 1\n",
    "        actual_value = y_test.iloc[actual_index]\n",
    "        current_date = X_test['Date'].iloc[actual_index]\n",
    "        \n",
    "        predictions.append(y_pred)\n",
    "        actuals.append(actual_value)\n",
    "        dates.append(current_date)\n",
    "    \n",
    "    return predictions, actuals, dates"
   ]
  },
  {
   "cell_type": "code",
   "execution_count": 15,
   "metadata": {},
   "outputs": [
    {
     "name": "stderr",
     "output_type": "stream",
     "text": [
      "C:\\Users\\young\\AppData\\Local\\Temp\\ipykernel_25028\\2478269679.py:86: FutureWarning: The behavior of DataFrame concatenation with empty or all-NA entries is deprecated. In a future version, this will no longer exclude empty or all-NA columns when determining the result dtypes. To retain the old behavior, exclude the relevant entries before the concat operation.\n",
      "  evaluation_summary = pd.concat([\n",
      "C:\\Users\\young\\AppData\\Local\\Temp\\ipykernel_25028\\2478269679.py:106: FutureWarning: The behavior of DataFrame concatenation with empty or all-NA entries is deprecated. In a future version, this will no longer exclude empty or all-NA columns when determining the result dtypes. To retain the old behavior, exclude the relevant entries before the concat operation.\n",
      "  detailed_results = pd.concat([detailed_results, ticker_df], ignore_index=True)\n"
     ]
    },
    {
     "data": {
      "application/vnd.microsoft.datawrangler.viewer.v0+json": {
       "columns": [
        {
         "name": "index",
         "rawType": "int64",
         "type": "integer"
        },
        {
         "name": "Frequency",
         "rawType": "object",
         "type": "string"
        },
        {
         "name": "Risk Group",
         "rawType": "object",
         "type": "string"
        },
        {
         "name": "Ticker",
         "rawType": "object",
         "type": "string"
        },
        {
         "name": "MSE (Test)",
         "rawType": "float64",
         "type": "float"
        },
        {
         "name": "R²",
         "rawType": "float64",
         "type": "float"
        }
       ],
       "conversionMethod": "pd.DataFrame",
       "ref": "c54c889b-0448-4310-99eb-080a0ae549aa",
       "rows": [
        [
         "0",
         "hourly",
         "low",
         "BTC-USD",
         "6.050920691886205",
         "0.0544615608142901"
        ],
        [
         "1",
         "hourly",
         "medium",
         "ETH-USD",
         "5.818246073590728",
         "0.04728453402255073"
        ],
        [
         "2",
         "hourly",
         "medium",
         "XRP-USD",
         "5.946978568552313",
         "0.1659197190860311"
        ],
        [
         "3",
         "hourly",
         "high",
         "DOGE-USD",
         "5.924037230375535",
         "0.06327944521839879"
        ],
        [
         "4",
         "hourly",
         "high",
         "SOL-USD",
         "5.907248305997964",
         "0.029669932212466055"
        ],
        [
         "5",
         "3hourly",
         "low",
         "BTC-USD",
         "2.1732547652535854",
         "0.09202629412861163"
        ],
        [
         "6",
         "3hourly",
         "medium",
         "ETH-USD",
         "1.895229169882441",
         "0.1259247324112901"
        ],
        [
         "7",
         "3hourly",
         "medium",
         "XRP-USD",
         "2.0313943683975486",
         "0.34109608204266806"
        ],
        [
         "8",
         "3hourly",
         "high",
         "DOGE-USD",
         "1.8171350908133876",
         "0.17272862393774302"
        ],
        [
         "9",
         "3hourly",
         "high",
         "SOL-USD",
         "1.6626000413006623",
         "0.0768741396130862"
        ],
        [
         "10",
         "daily",
         "low",
         "BTC-USD",
         "1.2816065226062658",
         "-0.20805886111687832"
        ],
        [
         "11",
         "daily",
         "medium",
         "ETH-USD",
         "0.9970201032145901",
         "-0.05361257251387164"
        ],
        [
         "12",
         "daily",
         "medium",
         "XRP-USD",
         "1.5749668016515852",
         "0.20466756857368584"
        ],
        [
         "13",
         "daily",
         "high",
         "DOGE-USD",
         "0.9095688707765226",
         "0.0687137457773429"
        ],
        [
         "14",
         "daily",
         "high",
         "SOL-USD",
         "0.7893404774816879",
         "-0.04890167906289111"
        ]
       ],
       "shape": {
        "columns": 5,
        "rows": 15
       }
      },
      "text/html": [
       "<div>\n",
       "<style scoped>\n",
       "    .dataframe tbody tr th:only-of-type {\n",
       "        vertical-align: middle;\n",
       "    }\n",
       "\n",
       "    .dataframe tbody tr th {\n",
       "        vertical-align: top;\n",
       "    }\n",
       "\n",
       "    .dataframe thead th {\n",
       "        text-align: right;\n",
       "    }\n",
       "</style>\n",
       "<table border=\"1\" class=\"dataframe\">\n",
       "  <thead>\n",
       "    <tr style=\"text-align: right;\">\n",
       "      <th></th>\n",
       "      <th>Frequency</th>\n",
       "      <th>Risk Group</th>\n",
       "      <th>Ticker</th>\n",
       "      <th>MSE (Test)</th>\n",
       "      <th>R²</th>\n",
       "    </tr>\n",
       "  </thead>\n",
       "  <tbody>\n",
       "    <tr>\n",
       "      <th>0</th>\n",
       "      <td>hourly</td>\n",
       "      <td>low</td>\n",
       "      <td>BTC-USD</td>\n",
       "      <td>6.050921</td>\n",
       "      <td>0.054462</td>\n",
       "    </tr>\n",
       "    <tr>\n",
       "      <th>1</th>\n",
       "      <td>hourly</td>\n",
       "      <td>medium</td>\n",
       "      <td>ETH-USD</td>\n",
       "      <td>5.818246</td>\n",
       "      <td>0.047285</td>\n",
       "    </tr>\n",
       "    <tr>\n",
       "      <th>2</th>\n",
       "      <td>hourly</td>\n",
       "      <td>medium</td>\n",
       "      <td>XRP-USD</td>\n",
       "      <td>5.946979</td>\n",
       "      <td>0.165920</td>\n",
       "    </tr>\n",
       "    <tr>\n",
       "      <th>3</th>\n",
       "      <td>hourly</td>\n",
       "      <td>high</td>\n",
       "      <td>DOGE-USD</td>\n",
       "      <td>5.924037</td>\n",
       "      <td>0.063279</td>\n",
       "    </tr>\n",
       "    <tr>\n",
       "      <th>4</th>\n",
       "      <td>hourly</td>\n",
       "      <td>high</td>\n",
       "      <td>SOL-USD</td>\n",
       "      <td>5.907248</td>\n",
       "      <td>0.029670</td>\n",
       "    </tr>\n",
       "    <tr>\n",
       "      <th>5</th>\n",
       "      <td>3hourly</td>\n",
       "      <td>low</td>\n",
       "      <td>BTC-USD</td>\n",
       "      <td>2.173255</td>\n",
       "      <td>0.092026</td>\n",
       "    </tr>\n",
       "    <tr>\n",
       "      <th>6</th>\n",
       "      <td>3hourly</td>\n",
       "      <td>medium</td>\n",
       "      <td>ETH-USD</td>\n",
       "      <td>1.895229</td>\n",
       "      <td>0.125925</td>\n",
       "    </tr>\n",
       "    <tr>\n",
       "      <th>7</th>\n",
       "      <td>3hourly</td>\n",
       "      <td>medium</td>\n",
       "      <td>XRP-USD</td>\n",
       "      <td>2.031394</td>\n",
       "      <td>0.341096</td>\n",
       "    </tr>\n",
       "    <tr>\n",
       "      <th>8</th>\n",
       "      <td>3hourly</td>\n",
       "      <td>high</td>\n",
       "      <td>DOGE-USD</td>\n",
       "      <td>1.817135</td>\n",
       "      <td>0.172729</td>\n",
       "    </tr>\n",
       "    <tr>\n",
       "      <th>9</th>\n",
       "      <td>3hourly</td>\n",
       "      <td>high</td>\n",
       "      <td>SOL-USD</td>\n",
       "      <td>1.662600</td>\n",
       "      <td>0.076874</td>\n",
       "    </tr>\n",
       "    <tr>\n",
       "      <th>10</th>\n",
       "      <td>daily</td>\n",
       "      <td>low</td>\n",
       "      <td>BTC-USD</td>\n",
       "      <td>1.281607</td>\n",
       "      <td>-0.208059</td>\n",
       "    </tr>\n",
       "    <tr>\n",
       "      <th>11</th>\n",
       "      <td>daily</td>\n",
       "      <td>medium</td>\n",
       "      <td>ETH-USD</td>\n",
       "      <td>0.997020</td>\n",
       "      <td>-0.053613</td>\n",
       "    </tr>\n",
       "    <tr>\n",
       "      <th>12</th>\n",
       "      <td>daily</td>\n",
       "      <td>medium</td>\n",
       "      <td>XRP-USD</td>\n",
       "      <td>1.574967</td>\n",
       "      <td>0.204668</td>\n",
       "    </tr>\n",
       "    <tr>\n",
       "      <th>13</th>\n",
       "      <td>daily</td>\n",
       "      <td>high</td>\n",
       "      <td>DOGE-USD</td>\n",
       "      <td>0.909569</td>\n",
       "      <td>0.068714</td>\n",
       "    </tr>\n",
       "    <tr>\n",
       "      <th>14</th>\n",
       "      <td>daily</td>\n",
       "      <td>high</td>\n",
       "      <td>SOL-USD</td>\n",
       "      <td>0.789340</td>\n",
       "      <td>-0.048902</td>\n",
       "    </tr>\n",
       "  </tbody>\n",
       "</table>\n",
       "</div>"
      ],
      "text/plain": [
       "   Frequency Risk Group    Ticker  MSE (Test)        R²\n",
       "0     hourly        low   BTC-USD    6.050921  0.054462\n",
       "1     hourly     medium   ETH-USD    5.818246  0.047285\n",
       "2     hourly     medium   XRP-USD    5.946979  0.165920\n",
       "3     hourly       high  DOGE-USD    5.924037  0.063279\n",
       "4     hourly       high   SOL-USD    5.907248  0.029670\n",
       "5    3hourly        low   BTC-USD    2.173255  0.092026\n",
       "6    3hourly     medium   ETH-USD    1.895229  0.125925\n",
       "7    3hourly     medium   XRP-USD    2.031394  0.341096\n",
       "8    3hourly       high  DOGE-USD    1.817135  0.172729\n",
       "9    3hourly       high   SOL-USD    1.662600  0.076874\n",
       "10     daily        low   BTC-USD    1.281607 -0.208059\n",
       "11     daily     medium   ETH-USD    0.997020 -0.053613\n",
       "12     daily     medium   XRP-USD    1.574967  0.204668\n",
       "13     daily       high  DOGE-USD    0.909569  0.068714\n",
       "14     daily       high   SOL-USD    0.789340 -0.048902"
      ]
     },
     "execution_count": 15,
     "metadata": {},
     "output_type": "execute_result"
    }
   ],
   "source": [
    "def evaluate_models_on_test_data(test_data_split, models, frequencies, window_size=24):\n",
    "    evaluation_summary = pd.DataFrame(columns=['Frequency', 'Risk Group', 'Ticker', 'MSE (Test)', 'R²'])\n",
    "    detailed_results = pd.DataFrame(columns=['Date', 'Ticker', 'Risk Group', 'Frequency', 'Predicted', 'Actual'])\n",
    "    \n",
    "    # Feature map from your previous code\n",
    "    feature_map = {\n",
    "        'hourly': [\n",
    "            'ln_hourly_rv_lag1', 'ln_hourly_rv_lag2',\n",
    "            'ln_3_hourly_rv_lag1', 'ln_3_hourly_rv_lag2',\n",
    "            'ln_daily_rv_lag1', 'ln_daily_rv_lag2',\n",
    "            'ln_hourly_return_lag1', 'ln_hourly_return_lag2',\n",
    "            'ln_3_hourly_return_lag1', 'ln_3_hourly_return_lag2'\n",
    "        ],\n",
    "        '3hourly': [\n",
    "            'ln_3_hourly_rv_lag1', 'ln_3_hourly_rv_lag2',\n",
    "            'ln_daily_rv_lag1', 'ln_daily_rv_lag2',\n",
    "            'ln_weekly_rv_lag1', 'ln_weekly_rv_lag2',\n",
    "            'ln_3_hourly_return_lag1', 'ln_3_hourly_return_lag2',\n",
    "            'ln_daily_return_lag1', 'ln_daily_return_lag2'\n",
    "        ],\n",
    "        'daily': [\n",
    "            'ln_daily_rv_lag1', 'ln_daily_rv_lag2',\n",
    "            'ln_weekly_rv_lag1', 'ln_weekly_rv_lag2',\n",
    "            'ln_monthly_rv_lag1', 'ln_monthly_rv_lag2',\n",
    "            'ln_daily_return_lag1', 'ln_daily_return_lag2',\n",
    "            'ln_weekly_return_lag1', 'ln_weekly_return_lag2'\n",
    "        ]\n",
    "    }\n",
    "    \n",
    "    for freq in frequencies:\n",
    "        for risk_group in ['low', 'medium', 'high']:\n",
    "            model = models[freq][risk_group]\n",
    "            group_data = test_data_split[risk_group].copy()\n",
    "            \n",
    "            # Define target and step_ahead based on frequency\n",
    "            target = {\n",
    "                'hourly': 'ln_hourly_rv',\n",
    "                '3hourly': 'ln_3_hourly_rv',\n",
    "                'daily': 'ln_daily_rv'\n",
    "            }[freq]\n",
    "            \n",
    "            step_ahead = {\n",
    "                'hourly': 1,\n",
    "                '3hourly': 3,\n",
    "                'daily': 24\n",
    "            }[freq]\n",
    "            \n",
    "            features = feature_map[freq]\n",
    "            available_features = [f for f in features if f in group_data.columns]\n",
    "            \n",
    "            if not available_features:\n",
    "                raise ValueError(f\"No valid features for {freq}-{risk_group}\")\n",
    "            \n",
    "            unique_tickers = group_data['Ticker'].unique()\n",
    "            \n",
    "            for ticker in unique_tickers:\n",
    "                ticker_data = group_data[group_data['Ticker'] == ticker].copy()\n",
    "                \n",
    "                # Validate features and target\n",
    "                if not all(f in ticker_data.columns for f in available_features) or target not in ticker_data.columns:\n",
    "                    print(f\"Skipping {ticker}: missing features or target for {freq}-{risk_group}\")\n",
    "                    continue\n",
    "                \n",
    "                # Prepare data with Date column\n",
    "                X_test = ticker_data[['Date'] + available_features].dropna()\n",
    "                y_test = ticker_data.loc[X_test.index, target]\n",
    "                \n",
    "                # Ensure sufficient data for window and step_ahead\n",
    "                if len(X_test) < window_size + step_ahead:\n",
    "                    print(f\"Skipping {ticker}: insufficient data ({len(X_test)} rows)\")\n",
    "                    continue\n",
    "                \n",
    "                # Get predictions using rolling window\n",
    "                predictions, actuals, dates = rolling_window_predictions(\n",
    "                    X_test, y_test, model, window_size=window_size, step_ahead=step_ahead\n",
    "                )\n",
    "                \n",
    "                if len(predictions) == 0:\n",
    "                    continue\n",
    "                \n",
    "                # Calculate metrics\n",
    "                mse = mean_squared_error(actuals, predictions)\n",
    "                r2 = r2_score(actuals, predictions)\n",
    "                \n",
    "                # Append to summary\n",
    "                evaluation_summary = pd.concat([\n",
    "                    evaluation_summary,\n",
    "                    pd.DataFrame({\n",
    "                        'Frequency': [freq],\n",
    "                        'Risk Group': [risk_group],\n",
    "                        'Ticker': [ticker],\n",
    "                        'MSE (Test)': [mse],\n",
    "                        'R²': [r2]\n",
    "                    })\n",
    "                ], ignore_index=True)\n",
    "                \n",
    "                # Append detailed results\n",
    "                ticker_df = pd.DataFrame({\n",
    "                    'Date': dates,\n",
    "                    'Ticker': ticker,\n",
    "                    'Risk Group': risk_group,\n",
    "                    'Frequency': freq,\n",
    "                    'Predicted': predictions,\n",
    "                    'Actual': actuals\n",
    "                })\n",
    "                detailed_results = pd.concat([detailed_results, ticker_df], ignore_index=True)\n",
    "    \n",
    "    return evaluation_summary, detailed_results\n",
    "\n",
    "evaluation_summary, detailed_results = evaluate_models_on_test_data(test_data_split, models, ['hourly', '3hourly', 'daily'])\n",
    "\n",
    "evaluation_summary"
   ]
  },
  {
   "cell_type": "code",
   "execution_count": 17,
   "metadata": {},
   "outputs": [],
   "source": [
    "# Save the detailed results\n",
    "detailed_results.to_csv('../../results/rf.csv', index=False)"
   ]
  }
 ],
 "metadata": {
  "kernelspec": {
   "display_name": "Python 3",
   "language": "python",
   "name": "python3"
  },
  "language_info": {
   "codemirror_mode": {
    "name": "ipython",
    "version": 3
   },
   "file_extension": ".py",
   "mimetype": "text/x-python",
   "name": "python",
   "nbconvert_exporter": "python",
   "pygments_lexer": "ipython3",
   "version": "3.12.2"
  }
 },
 "nbformat": 4,
 "nbformat_minor": 2
}
