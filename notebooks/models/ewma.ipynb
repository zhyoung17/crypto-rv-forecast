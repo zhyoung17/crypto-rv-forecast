{
 "cells": [
  {
   "cell_type": "markdown",
   "metadata": {},
   "source": [
    "# EWMA Model\n",
    "For each risk classficiation, we will train a model to fit to predict the RV model"
   ]
  },
  {
   "cell_type": "markdown",
   "metadata": {},
   "source": [
    "## Import the libraries and data\n",
    "To obtain the data, please go to notebooks/data_preprocessing, and then run data_import.ipynb and then run data_preprocessing.ipynb. This will give you data/processed_data.csv"
   ]
  },
  {
   "cell_type": "code",
   "execution_count": 37,
   "metadata": {},
   "outputs": [
    {
     "name": "stdout",
     "output_type": "stream",
     "text": [
      "Index(['Date', 'Open', 'High', 'Low', 'Close', 'Volume', 'Ticker',\n",
      "       'ln_hourly_return', 'ln_3_hourly_return', 'hourly_rv', '3_hourly_rv',\n",
      "       'ln_hourly_rv', 'ln_3_hourly_rv', 'ln_daily_rv', 'weekly_rv',\n",
      "       'ln_weekly_rv', 'monthly_rv', 'ln_monthly_rv', 'ln_daily_rv_lag1',\n",
      "       'ln_daily_rv_lag2', 'ln_weekly_rv_lag1', 'ln_weekly_rv_lag2',\n",
      "       'ln_monthly_rv_lag1', 'ln_monthly_rv_lag2', 'ln_hourly_rv_lag1',\n",
      "       'ln_3_hourly_rv_lag1', 'ln_hourly_rv_lag2', 'ln_3_hourly_rv_lag2',\n",
      "       'ln_hourly_return_lag1', 'ln_3_hourly_return_lag1',\n",
      "       'ln_hourly_return_lag2', 'ln_3_hourly_return_lag2', 'hourly_rv_lag1',\n",
      "       'hourly_rv_lag2', 'three_hourly_rv_lag1', 'three_hourly_rv_lag2',\n",
      "       'daily_rv', 'Risk'],\n",
      "      dtype='object')\n"
     ]
    }
   ],
   "source": [
    "\n",
    "# Import the necessary libraries\n",
    "import pandas as pd\n",
    "from sklearn.model_selection import train_test_split\n",
    "from sklearn.linear_model import LinearRegression\n",
    "from sklearn.metrics import mean_squared_error\n",
    "import matplotlib.pyplot as plt\n",
    "from sklearn.metrics import r2_score\n",
    "import numpy as np\n",
    "\n",
    "data = pd.read_csv('../../data/processed_data.csv')\n",
    "data['Date'] = pd.to_datetime(data['Date'])\n",
    "\n",
    "# Remove NaN values\n",
    "data = data.dropna()\n",
    "\n",
    "# Print columns\n",
    "print(data.columns)"
   ]
  },
  {
   "cell_type": "markdown",
   "metadata": {},
   "source": [
    "## Train test split\n",
    "Now we will use a different train-test split from the group project\n",
    "Group project: 80/20 split\n",
    "Individual: Use 1 year of training data, then use rolling window "
   ]
  },
  {
   "cell_type": "code",
   "execution_count": 38,
   "metadata": {},
   "outputs": [
    {
     "name": "stdout",
     "output_type": "stream",
     "text": [
      "2023-05-03 00:00:00+00:00 2024-05-03 00:00:00+00:00\n",
      "2024-05-03 01:00:00+00:00 2025-03-10 23:00:00+00:00\n"
     ]
    }
   ],
   "source": [
    "# Train-test split\n",
    "# Train data: 0.8 of the data\n",
    "# Test data: 0.2 of the data\n",
    "# Sort the data by date\n",
    "data = data.sort_values('Date')\n",
    "\n",
    "# Determine when the first year ends, and use it as train data\n",
    "# The rest of the data is used as test data\n",
    "min_date = data['Date'].min()\n",
    "max_date = data['Date'].max()\n",
    "\n",
    "# Calculate the total time span of the data\n",
    "total_time_span = max_date - min_date\n",
    "\n",
    "# Define the first year of data\n",
    "first_year_end = min_date + pd.DateOffset(years=1)\n",
    "\n",
    "# Filter data for the first year\n",
    "first_year_data = data[data['Date'] <= first_year_end]\n",
    "\n",
    "# Calculate the percentage of data in the first year\n",
    "percentage_first_year = (len(first_year_data) / len(data))\n",
    "\n",
    "train_split = percentage_first_year\n",
    "train_data = data[:int(train_split * len(data))]\n",
    "test_data = data[int(train_split * len(data)):]\n",
    "\n",
    "# Print train and test data date\n",
    "print(train_data['Date'].min(), train_data['Date'].max())\n",
    "print(test_data['Date'].min(), test_data['Date'].max())"
   ]
  },
  {
   "cell_type": "markdown",
   "metadata": {},
   "source": [
    "### Further split the data based on the risk level\n",
    "There are low, medium, and high risk models."
   ]
  },
  {
   "cell_type": "code",
   "execution_count": 39,
   "metadata": {},
   "outputs": [],
   "source": [
    "\n",
    "# Split train and test data by risk groups\n",
    "train_data_split = {\n",
    "    'low': train_data[train_data['Risk'] == 'Low Risk'],\n",
    "    'medium': train_data[train_data['Risk'] == 'Medium Risk'],\n",
    "    'high': train_data[train_data['Risk'] == 'High Risk']\n",
    "}\n",
    "\n",
    "test_data_split = {\n",
    "    'low': test_data[test_data['Risk'] == 'Low Risk'],\n",
    "    'medium': test_data[test_data['Risk'] == 'Medium Risk'],\n",
    "    'high': test_data[test_data['Risk'] == 'High Risk']\n",
    "}"
   ]
  },
  {
   "cell_type": "markdown",
   "metadata": {},
   "source": [
    "# Train the model based on their classifications"
   ]
  },
  {
   "cell_type": "markdown",
   "metadata": {},
   "source": [
    "### Training data"
   ]
  },
  {
   "cell_type": "markdown",
   "metadata": {},
   "source": [
    "#### Forecast function"
   ]
  },
  {
   "cell_type": "code",
   "execution_count": 40,
   "metadata": {},
   "outputs": [],
   "source": [
    "def compute_ewma_forecast(series, lam):\n",
    "    # Initialize the forecast with the first observed value\n",
    "    forecasts = [series.iloc[0]]\n",
    "    for i in range(1, len(series)):\n",
    "        f = lam * forecasts[i-1] + (1 - lam) * series.iloc[i-1]\n",
    "        forecasts.append(f)\n",
    "    return np.array(forecasts)\n"
   ]
  },
  {
   "cell_type": "markdown",
   "metadata": {},
   "source": [
    "#### Calculating optimal lambda\n",
    "In theory, optimal lambda is 0.94, but given the abundance of training data, we can use gridsearch to find optimal lambda"
   ]
  },
  {
   "cell_type": "code",
   "execution_count": 41,
   "metadata": {},
   "outputs": [],
   "source": [
    "def optimize_lambda(series, candidate_lambdas=np.linspace(0.90, 0.99, 100)):\n",
    "    best_lambda = None\n",
    "    best_mse = np.inf\n",
    "    for lam in candidate_lambdas:\n",
    "        forecast = compute_ewma_forecast(series, lam)\n",
    "        # Exclude the first forecast because it is just the initialization\n",
    "        mse = np.mean((series.values[1:] - forecast[1:])**2)\n",
    "        if mse < best_mse:\n",
    "            best_mse = mse\n",
    "            best_lambda = lam\n",
    "    return best_lambda, best_mse\n"
   ]
  },
  {
   "cell_type": "markdown",
   "metadata": {},
   "source": [
    "This wil give us 3 models to work with: model_low, model_medium, and model_high. We will use these subsequent models on the test data to evaluate the models"
   ]
  },
  {
   "cell_type": "code",
   "execution_count": 42,
   "metadata": {},
   "outputs": [
    {
     "name": "stderr",
     "output_type": "stream",
     "text": [
      "C:\\Users\\young\\AppData\\Local\\Temp\\ipykernel_26348\\2134823860.py:45: FutureWarning: The behavior of DataFrame concatenation with empty or all-NA entries is deprecated. In a future version, this will no longer exclude empty or all-NA columns when determining the result dtypes. To retain the old behavior, exclude the relevant entries before the concat operation.\n",
      "  model_summary = pd.concat([model_summary, pd.DataFrame([summary_row])], ignore_index=True)\n"
     ]
    }
   ],
   "source": [
    "\n",
    "# Function to train models and summarize them\n",
    "def train_models_by_frequency_and_risk(train_data, frequencies):\n",
    "    models = {}\n",
    "    model_summary = pd.DataFrame(columns=['Frequency', 'Risk Group', 'Optimal Lambda', 'In-Sample MSE'])\n",
    "    \n",
    "    for freq in frequencies:\n",
    "        models[freq] = {}\n",
    "        for risk_group in ['low', 'medium', 'high']:\n",
    "            group_data = train_data[risk_group]\n",
    "            \n",
    "            # Select target based on frequency\n",
    "            if freq == 'hourly':\n",
    "                target = 'ln_hourly_rv'\n",
    "            elif freq == '3hourly':\n",
    "                target = 'ln_3_hourly_rv'\n",
    "            elif freq == 'daily':\n",
    "                target = 'ln_daily_rv'\n",
    "            else:\n",
    "                raise ValueError(f\"Unsupported frequency: {freq}\")\n",
    "            \n",
    "            if target not in group_data.columns:\n",
    "                print(f\"Missing {target} for {freq}-{risk_group}, skipping.\")\n",
    "                continue\n",
    "            \n",
    "            # Drop missing values\n",
    "            series = group_data[target].dropna()\n",
    "            if len(series) < 2:\n",
    "                print(f\"Insufficient data for {freq}-{risk_group}, skipping.\")\n",
    "                continue\n",
    "            \n",
    "            # Optimize lambda for the EWMA model\n",
    "            optimal_lambda, in_sample_mse = optimize_lambda(series)\n",
    "            \n",
    "            # Store the \"trained\" model: here just the optimal lambda and initial value\n",
    "            ewma_model = {'lambda': optimal_lambda, 'initial': series.iloc[0]}\n",
    "            models[freq][risk_group] = ewma_model\n",
    "            \n",
    "            # Append results to the summary DataFrame\n",
    "            summary_row = {\n",
    "                'Frequency': freq,\n",
    "                'Risk Group': risk_group,\n",
    "                'Optimal Lambda': optimal_lambda,\n",
    "                'In-Sample MSE': in_sample_mse\n",
    "            }\n",
    "            model_summary = pd.concat([model_summary, pd.DataFrame([summary_row])], ignore_index=True)\n",
    "    \n",
    "    return models, model_summary\n",
    "\n",
    "\n",
    "# Define frequencies\n",
    "frequencies = ['hourly', '3hourly', 'daily']\n",
    "\n",
    "# Train models for each frequency and risk group\n",
    "models, model_summary = train_models_by_frequency_and_risk(train_data_split, frequencies)"
   ]
  },
  {
   "cell_type": "markdown",
   "metadata": {},
   "source": [
    "### Model summary"
   ]
  },
  {
   "cell_type": "code",
   "execution_count": 43,
   "metadata": {},
   "outputs": [
    {
     "data": {
      "application/vnd.microsoft.datawrangler.viewer.v0+json": {
       "columns": [
        {
         "name": "index",
         "rawType": "int64",
         "type": "integer"
        },
        {
         "name": "Frequency",
         "rawType": "object",
         "type": "string"
        },
        {
         "name": "Risk Group",
         "rawType": "object",
         "type": "string"
        },
        {
         "name": "Optimal Lambda",
         "rawType": "float64",
         "type": "float"
        },
        {
         "name": "In-Sample MSE",
         "rawType": "float64",
         "type": "float"
        }
       ],
       "conversionMethod": "pd.DataFrame",
       "ref": "3344508f-7da8-465e-bab6-886448798e17",
       "rows": [
        [
         "0",
         "hourly",
         "low",
         "0.9154545454545455",
         "5.725802005319136"
        ],
        [
         "1",
         "hourly",
         "medium",
         "0.9454545454545454",
         "6.099998725763852"
        ],
        [
         "2",
         "hourly",
         "high",
         "0.9609090909090909",
         "6.151693805713798"
        ],
        [
         "3",
         "3hourly",
         "low",
         "0.9",
         "1.6490844933153246"
        ],
        [
         "4",
         "3hourly",
         "medium",
         "0.9",
         "1.6794068805185713"
        ],
        [
         "5",
         "3hourly",
         "high",
         "0.9",
         "1.7226239560282885"
        ],
        [
         "6",
         "daily",
         "low",
         "0.9",
         "0.3280842818951833"
        ],
        [
         "7",
         "daily",
         "medium",
         "0.9",
         "0.4416580634214949"
        ],
        [
         "8",
         "daily",
         "high",
         "0.9",
         "0.5225719260956864"
        ]
       ],
       "shape": {
        "columns": 4,
        "rows": 9
       }
      },
      "text/html": [
       "<div>\n",
       "<style scoped>\n",
       "    .dataframe tbody tr th:only-of-type {\n",
       "        vertical-align: middle;\n",
       "    }\n",
       "\n",
       "    .dataframe tbody tr th {\n",
       "        vertical-align: top;\n",
       "    }\n",
       "\n",
       "    .dataframe thead th {\n",
       "        text-align: right;\n",
       "    }\n",
       "</style>\n",
       "<table border=\"1\" class=\"dataframe\">\n",
       "  <thead>\n",
       "    <tr style=\"text-align: right;\">\n",
       "      <th></th>\n",
       "      <th>Frequency</th>\n",
       "      <th>Risk Group</th>\n",
       "      <th>Optimal Lambda</th>\n",
       "      <th>In-Sample MSE</th>\n",
       "    </tr>\n",
       "  </thead>\n",
       "  <tbody>\n",
       "    <tr>\n",
       "      <th>0</th>\n",
       "      <td>hourly</td>\n",
       "      <td>low</td>\n",
       "      <td>0.915455</td>\n",
       "      <td>5.725802</td>\n",
       "    </tr>\n",
       "    <tr>\n",
       "      <th>1</th>\n",
       "      <td>hourly</td>\n",
       "      <td>medium</td>\n",
       "      <td>0.945455</td>\n",
       "      <td>6.099999</td>\n",
       "    </tr>\n",
       "    <tr>\n",
       "      <th>2</th>\n",
       "      <td>hourly</td>\n",
       "      <td>high</td>\n",
       "      <td>0.960909</td>\n",
       "      <td>6.151694</td>\n",
       "    </tr>\n",
       "    <tr>\n",
       "      <th>3</th>\n",
       "      <td>3hourly</td>\n",
       "      <td>low</td>\n",
       "      <td>0.900000</td>\n",
       "      <td>1.649084</td>\n",
       "    </tr>\n",
       "    <tr>\n",
       "      <th>4</th>\n",
       "      <td>3hourly</td>\n",
       "      <td>medium</td>\n",
       "      <td>0.900000</td>\n",
       "      <td>1.679407</td>\n",
       "    </tr>\n",
       "    <tr>\n",
       "      <th>5</th>\n",
       "      <td>3hourly</td>\n",
       "      <td>high</td>\n",
       "      <td>0.900000</td>\n",
       "      <td>1.722624</td>\n",
       "    </tr>\n",
       "    <tr>\n",
       "      <th>6</th>\n",
       "      <td>daily</td>\n",
       "      <td>low</td>\n",
       "      <td>0.900000</td>\n",
       "      <td>0.328084</td>\n",
       "    </tr>\n",
       "    <tr>\n",
       "      <th>7</th>\n",
       "      <td>daily</td>\n",
       "      <td>medium</td>\n",
       "      <td>0.900000</td>\n",
       "      <td>0.441658</td>\n",
       "    </tr>\n",
       "    <tr>\n",
       "      <th>8</th>\n",
       "      <td>daily</td>\n",
       "      <td>high</td>\n",
       "      <td>0.900000</td>\n",
       "      <td>0.522572</td>\n",
       "    </tr>\n",
       "  </tbody>\n",
       "</table>\n",
       "</div>"
      ],
      "text/plain": [
       "  Frequency Risk Group  Optimal Lambda  In-Sample MSE\n",
       "0    hourly        low        0.915455       5.725802\n",
       "1    hourly     medium        0.945455       6.099999\n",
       "2    hourly       high        0.960909       6.151694\n",
       "3   3hourly        low        0.900000       1.649084\n",
       "4   3hourly     medium        0.900000       1.679407\n",
       "5   3hourly       high        0.900000       1.722624\n",
       "6     daily        low        0.900000       0.328084\n",
       "7     daily     medium        0.900000       0.441658\n",
       "8     daily       high        0.900000       0.522572"
      ]
     },
     "execution_count": 43,
     "metadata": {},
     "output_type": "execute_result"
    }
   ],
   "source": [
    "model_summary"
   ]
  },
  {
   "cell_type": "markdown",
   "metadata": {},
   "source": [
    "### Testing data"
   ]
  },
  {
   "cell_type": "markdown",
   "metadata": {},
   "source": [
    "#### Implementing rolling window\n",
    "Rolling window is used for a one step ahead forecast. So we constantly update the lagged data with an update lagged data"
   ]
  },
  {
   "cell_type": "code",
   "execution_count": 34,
   "metadata": {},
   "outputs": [],
   "source": [
    "def rolling_window_predictions(X_test, y_test, model, window_size=24, step_ahead=1):\n",
    "    predictions = []\n",
    "    actuals = []\n",
    "    dates = []\n",
    "    lam = model['lambda']  # Get the decay parameter from the trained EWMA model\n",
    "    \n",
    "    # Determine maximum index to ensure enough data for the forecast\n",
    "    max_index = len(X_test) - step_ahead  # Ensure we have data for the forecast horizon\n",
    "    for i in range(window_size, max_index + 1):\n",
    "        # Use the target series within the current rolling window\n",
    "        window_data = y_test.iloc[i - window_size : i]\n",
    "        \n",
    "        # Compute the EWMA forecast using the provided decay factor\n",
    "        forecast = compute_ewma_forecast(window_data, lam)\n",
    "        # For EWMA, the one-step ahead forecast is the last computed value.\n",
    "        y_pred = forecast[-1]\n",
    "        # For multi-step ahead, under basic EWMA assumptions, the forecast remains constant.\n",
    "        \n",
    "        # Get the actual value at the forecast time point\n",
    "        actual_index = i + step_ahead - 1\n",
    "        actual_value = y_test.iloc[actual_index]\n",
    "        \n",
    "        # Capture the corresponding date from the X_test 'Date' column\n",
    "        current_date = X_test['Date'].iloc[actual_index]\n",
    "        \n",
    "        predictions.append(y_pred)\n",
    "        actuals.append(actual_value)\n",
    "        dates.append(current_date)\n",
    "    \n",
    "    return predictions, actuals, dates\n"
   ]
  },
  {
   "cell_type": "markdown",
   "metadata": {},
   "source": [
    "#### Implementing an evaluatation function\n",
    "This function evaluates the findings and puts it in a df for each ticker"
   ]
  },
  {
   "cell_type": "code",
   "execution_count": 44,
   "metadata": {},
   "outputs": [],
   "source": [
    "def evaluate_models_on_test_data(test_data_split, models, frequencies, window_size=24):\n",
    "    evaluation_summary = pd.DataFrame(columns=['Frequency', 'Risk Group', 'Ticker', 'MSE', 'R²'])\n",
    "    detailed_results = pd.DataFrame(columns=['Date', 'Ticker', 'Risk Group', 'Frequency', 'Predicted', 'Actual'])\n",
    "    \n",
    "    for freq in frequencies:\n",
    "        for risk_group in ['low', 'medium', 'high']:\n",
    "            model = models[freq][risk_group]\n",
    "            group_data = test_data_split[risk_group].copy()\n",
    "            \n",
    "            # Define target and forecast horizon based on frequency\n",
    "            if freq == 'hourly':\n",
    "                target = 'ln_hourly_rv'\n",
    "                step_ahead = 1  # Forecast 1 step ahead\n",
    "            elif freq == '3hourly':\n",
    "                target = 'ln_3_hourly_rv'\n",
    "                step_ahead = 3  # Forecast 3 steps ahead\n",
    "            elif freq == 'daily':\n",
    "                target = 'ln_daily_rv'\n",
    "                step_ahead = 24  # Forecast 24 steps ahead (1 day)\n",
    "            else:\n",
    "                raise ValueError(\"Unsupported frequency\")\n",
    "            \n",
    "            unique_tickers = group_data['Ticker'].unique()\n",
    "            \n",
    "            for ticker in unique_tickers:\n",
    "                ticker_data = group_data[group_data['Ticker'] == ticker].copy()\n",
    "                \n",
    "                # Validate that the required columns exist\n",
    "                if 'Date' not in ticker_data.columns or target not in ticker_data.columns:\n",
    "                    print(f\"Skipping {ticker}: missing Date or {target} for {freq}-{risk_group}\")\n",
    "                    continue\n",
    "                \n",
    "                # Prepare test data with Date and target column\n",
    "                X_test = ticker_data[['Date', target]].dropna()\n",
    "                y_test = X_test[target]\n",
    "                \n",
    "                # Check for sufficient data\n",
    "                if len(X_test) < window_size + step_ahead:\n",
    "                    print(f\"Skipping {ticker}: insufficient data ({len(X_test)} rows)\")\n",
    "                    continue\n",
    "                \n",
    "                # Get EWMA-based predictions via a rolling window\n",
    "                predictions, actuals, dates = rolling_window_predictions(\n",
    "                    X_test, y_test, model, window_size=window_size, step_ahead=step_ahead\n",
    "                )\n",
    "                \n",
    "                if len(predictions) == 0:\n",
    "                    continue\n",
    "                                \n",
    "                # Calculate metrics on the log-transformed values\n",
    "                mse = mean_squared_error(actuals, predictions)\n",
    "                r2 = r2_score(actuals, predictions)\n",
    "                \n",
    "                eval_row = {\n",
    "                    'Frequency': freq,\n",
    "                    'Risk Group': risk_group.capitalize(),\n",
    "                    'Ticker': ticker,\n",
    "                    'MSE': mse,\n",
    "                    'R²': r2\n",
    "                }\n",
    "                evaluation_summary = pd.concat(\n",
    "                    [evaluation_summary, pd.DataFrame([eval_row])], ignore_index=True\n",
    "                )\n",
    "                \n",
    "                ticker_results = pd.DataFrame({\n",
    "                    'Date': dates,\n",
    "                    'Ticker': ticker,\n",
    "                    'Risk Group': risk_group.capitalize(),\n",
    "                    'Frequency': freq,\n",
    "                    'Predicted': predictions,\n",
    "                    'Actual': actuals\n",
    "                })\n",
    "                detailed_results = pd.concat([detailed_results, ticker_results], ignore_index=True)\n",
    "    \n",
    "    return evaluation_summary, detailed_results\n"
   ]
  },
  {
   "cell_type": "markdown",
   "metadata": {},
   "source": [
    "#### Evaluate the test data"
   ]
  },
  {
   "cell_type": "code",
   "execution_count": 45,
   "metadata": {},
   "outputs": [
    {
     "name": "stderr",
     "output_type": "stream",
     "text": [
      "C:\\Users\\young\\AppData\\Local\\Temp\\ipykernel_26348\\2496172358.py:61: FutureWarning: The behavior of DataFrame concatenation with empty or all-NA entries is deprecated. In a future version, this will no longer exclude empty or all-NA columns when determining the result dtypes. To retain the old behavior, exclude the relevant entries before the concat operation.\n",
      "  evaluation_summary = pd.concat(\n",
      "C:\\Users\\young\\AppData\\Local\\Temp\\ipykernel_26348\\2496172358.py:73: FutureWarning: The behavior of DataFrame concatenation with empty or all-NA entries is deprecated. In a future version, this will no longer exclude empty or all-NA columns when determining the result dtypes. To retain the old behavior, exclude the relevant entries before the concat operation.\n",
      "  detailed_results = pd.concat([detailed_results, ticker_results], ignore_index=True)\n"
     ]
    },
    {
     "name": "stdout",
     "output_type": "stream",
     "text": [
      "Evaluation Summary:\n",
      "   Frequency Risk Group    Ticker       MSE        R²\n",
      "0     hourly        Low   BTC-USD  6.150042  0.038972\n",
      "1     hourly     Medium   ETH-USD  6.129422 -0.003669\n",
      "2     hourly     Medium   XRP-USD  6.160992  0.135904\n",
      "3     hourly       High  DOGE-USD  6.719541 -0.062507\n",
      "4     hourly       High   SOL-USD  6.699600 -0.100483\n",
      "5    3hourly        Low   BTC-USD  2.105525  0.120324\n",
      "6    3hourly     Medium   ETH-USD  1.883205  0.131470\n",
      "7    3hourly     Medium   XRP-USD  1.836699  0.404248\n",
      "8    3hourly       High  DOGE-USD  1.787785  0.186091\n",
      "9    3hourly       High   SOL-USD  1.617237  0.102061\n",
      "10     daily        Low   BTC-USD  1.398552 -0.318293\n",
      "11     daily     Medium   ETH-USD  1.079920 -0.141218\n",
      "12     daily     Medium   XRP-USD  1.227648  0.380058\n",
      "13     daily       High  DOGE-USD  0.921870  0.056119\n",
      "14     daily       High   SOL-USD  0.789207 -0.048725\n"
     ]
    }
   ],
   "source": [
    "\n",
    "# Define frequencies\n",
    "frequencies = ['hourly', '3hourly', 'daily']\n",
    "\n",
    "# Evaluate models\n",
    "evaluation_summary, detailed_results = evaluate_models_on_test_data(\n",
    "    test_data_split, models, frequencies, window_size=24\n",
    ")\n",
    "\n",
    "# Save results\n",
    "detailed_results.to_csv('../../results/ewma.csv', index=False)\n",
    "print(\"Evaluation Summary:\")\n",
    "print(evaluation_summary)"
   ]
  }
 ],
 "metadata": {
  "kernelspec": {
   "display_name": "Python 3",
   "language": "python",
   "name": "python3"
  },
  "language_info": {
   "codemirror_mode": {
    "name": "ipython",
    "version": 3
   },
   "file_extension": ".py",
   "mimetype": "text/x-python",
   "name": "python",
   "nbconvert_exporter": "python",
   "pygments_lexer": "ipython3",
   "version": "3.12.2"
  }
 },
 "nbformat": 4,
 "nbformat_minor": 2
}
