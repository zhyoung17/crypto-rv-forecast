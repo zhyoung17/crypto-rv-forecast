{
 "cells": [
  {
   "cell_type": "code",
   "execution_count": 2,
   "metadata": {},
   "outputs": [
    {
     "name": "stderr",
     "output_type": "stream",
     "text": [
      "[*********************100%***********************]  6 of 6 completed\n"
     ]
    }
   ],
   "source": [
    "import pandas as pd\n",
    "import yfinance as yf\n",
    "from datetime import datetime\n",
    "\n",
    "# Define tickers and date range\n",
    "TICKERS = ['SPY', 'BTC-USD', 'ETH-USD', 'XRP-USD', 'SOL-USD', 'DOGE-USD']\n",
    "START_DATE = '2023-04-01'\n",
    "END_DATE = datetime.now().strftime('%Y-%m-%d')\n",
    "\n",
    "data = yf.download(TICKERS, start=START_DATE, end=END_DATE, interval='1h', group_by='Ticker')\n",
    "\n",
    "# Flatten the MultiIndex DataFrame\n",
    "combined_data = pd.DataFrame()\n",
    "for ticker in TICKERS:\n",
    "    ticker_data = data[ticker].copy()  \n",
    "    ticker_data['Ticker'] = ticker\n",
    "    combined_data = pd.concat([combined_data, ticker_data.reset_index()], axis=0)\n",
    "\n",
    "\n",
    "# Rename columns for clarity\n",
    "if 'Datetime' in combined_data.columns:\n",
    "    combined_data.rename(columns={'Datetime': 'Date'}, inplace=True)\n",
    "else:\n",
    "    raise KeyError(\"Column 'Datetime' not found in the downloaded data.\")\n",
    "\n",
    "combined_data['Date'] = pd.to_datetime(combined_data['Date'])  # Ensure Date is datetime\n",
    "\n",
    "# Remove rows where all price-related columns are NaN\n",
    "price_columns = ['Open', 'High', 'Low', 'Close', 'Volume']\n",
    "combined_data.dropna(subset=price_columns, how='all', inplace=True)\n",
    "combined_data.to_csv('../../data/raw_data.csv', index=False)\n"
   ]
  }
 ],
 "metadata": {
  "kernelspec": {
   "display_name": "Python 3",
   "language": "python",
   "name": "python3"
  },
  "language_info": {
   "codemirror_mode": {
    "name": "ipython",
    "version": 3
   },
   "file_extension": ".py",
   "mimetype": "text/x-python",
   "name": "python",
   "nbconvert_exporter": "python",
   "pygments_lexer": "ipython3",
   "version": "3.12.2"
  }
 },
 "nbformat": 4,
 "nbformat_minor": 2
}
